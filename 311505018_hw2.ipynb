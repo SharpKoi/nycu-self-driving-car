{
 "cells": [
  {
   "cell_type": "code",
   "execution_count": 1,
   "id": "ce32ad3e",
   "metadata": {},
   "outputs": [],
   "source": [
    "import numpy as np"
   ]
  },
  {
   "cell_type": "code",
   "execution_count": 2,
   "id": "c5210f5a",
   "metadata": {},
   "outputs": [],
   "source": [
    "weathers = ['sunny', 'cloudy', 'rainy']"
   ]
  },
  {
   "cell_type": "markdown",
   "id": "630678e8",
   "metadata": {},
   "source": [
    "## 2(a)."
   ]
  },
  {
   "cell_type": "code",
   "execution_count": 3,
   "id": "66666aa4",
   "metadata": {},
   "outputs": [],
   "source": [
    "def weather_probs(weather_start: str, trans_matrix: np.ndarray, day: int):\n",
    "    assert day > 0\n",
    "    \n",
    "    probs = (np.array(weathers) == weather_start).astype(int)\n",
    "    for i in range(day-1):\n",
    "        probs = np.matmul(probs, trans_matrix)\n",
    "        \n",
    "    return probs"
   ]
  },
  {
   "cell_type": "code",
   "execution_count": 4,
   "id": "a37d8f95",
   "metadata": {},
   "outputs": [],
   "source": [
    "day1 = 'sunny'\n",
    "P1 = np.array([[.8, .2, .0], [.4, .4, .2], [.2, .6, .2]])"
   ]
  },
  {
   "cell_type": "code",
   "execution_count": 5,
   "id": "6e8af57c",
   "metadata": {},
   "outputs": [
    {
     "name": "stdout",
     "output_type": "stream",
     "text": [
      "P(Day2=cloudy): 0.20\n",
      "P(Day3=cloudy): 0.24\n",
      "P(Day4=rainy): 0.06\n"
     ]
    }
   ],
   "source": [
    "print(f\"P(Day2=cloudy): {weather_probs(day1, P1, 2)[weathers.index('cloudy')]:.2f}\")\n",
    "print(f\"P(Day3=cloudy): {weather_probs(day1, P1, 3)[weathers.index('cloudy')]:.2f}\")\n",
    "print(f\"P(Day4=rainy): {weather_probs(day1, P1, 4)[weathers.index('rainy')]:.2f}\")"
   ]
  },
  {
   "cell_type": "markdown",
   "id": "8870ed23",
   "metadata": {},
   "source": [
    "## 2(b)."
   ]
  },
  {
   "cell_type": "code",
   "execution_count": 6,
   "id": "f33c4eeb",
   "metadata": {},
   "outputs": [],
   "source": [
    "def random_weather_seq(init_probs: np.ndarray, trans_matrix: np.ndarray, n_days: int):\n",
    "    assert n_days > 0\n",
    "    \n",
    "    seq = list()\n",
    "    next_probs = init_probs\n",
    "    for i in range(n_days):\n",
    "        seq.append(np.random.choice(weathers, p=next_probs))\n",
    "        next_probs = np.matmul(next_probs, trans_matrix)\n",
    "        \n",
    "        \n",
    "    return seq"
   ]
  },
  {
   "cell_type": "code",
   "execution_count": 7,
   "id": "b3232d7f",
   "metadata": {},
   "outputs": [
    {
     "data": {
      "text/plain": [
       "['cloudy', 'cloudy', 'sunny', 'rainy', 'sunny', 'cloudy', 'cloudy']"
      ]
     },
     "execution_count": 7,
     "metadata": {},
     "output_type": "execute_result"
    }
   ],
   "source": [
    "random_weather_seq(np.full(3, 1/3), P1, 7)"
   ]
  },
  {
   "cell_type": "markdown",
   "id": "fef4e458",
   "metadata": {},
   "source": [
    "## 2(c)."
   ]
  },
  {
   "cell_type": "code",
   "execution_count": 8,
   "id": "a3aa3db1",
   "metadata": {},
   "outputs": [],
   "source": [
    "def stationary_distribution(init_probs, trans_matrix, n_samples=10000):\n",
    "    probs = init_probs\n",
    "    step = 0\n",
    "    while True:\n",
    "        new_probs = np.matmul(probs, trans_matrix)\n",
    "        if np.allclose(probs, new_probs, rtol=1e-16, atol=1e-16):\n",
    "            print(f'Found stationary distribution at {step}th steps.')\n",
    "            return probs\n",
    "        \n",
    "        probs = new_probs\n",
    "        step += 1"
   ]
  },
  {
   "cell_type": "code",
   "execution_count": 9,
   "id": "d300914d",
   "metadata": {
    "scrolled": true
   },
   "outputs": [
    {
     "name": "stdout",
     "output_type": "stream",
     "text": [
      "Found stationary distribution at 49th steps.\n"
     ]
    },
    {
     "data": {
      "text/plain": [
       "array([0.64285714, 0.28571429, 0.07142857])"
      ]
     },
     "execution_count": 9,
     "metadata": {},
     "output_type": "execute_result"
    }
   ],
   "source": [
    "pi = stationary_distribution(np.full(3, 1/3), P1)\n",
    "pi"
   ]
  },
  {
   "cell_type": "markdown",
   "id": "c9cfacfa",
   "metadata": {},
   "source": [
    "## 2(d).\n",
    "\n",
    "* Definition of **Stationary Distribution (Discrete ver.)**  \n",
    "  Let $\\pi$ be a probability vector and let $P$ be a state transition matrix.  \n",
    "  If $\\pi = \\pi P$, then $\\pi$ is called the **stationary distribution** of the state transition matrix $P$.\n",
    "* Given the state transition matrix\n",
    "    $$\n",
    "    P = \n",
    "    \\begin{pmatrix}\n",
    "    0.8 & 0.2 & 0 \\\\\n",
    "    0.4 & 0.4 & 0.2 \\\\\n",
    "    0.2 & 0.6 & 0.2\n",
    "    \\end{pmatrix}\n",
    "    $$\n",
    "  Let $\\pi = [\\pi_0, \\pi_1, \\pi_2]$. We can write $\\pi = \\pi P$ as \n",
    "  $$\n",
    "  \\begin{pmatrix}\n",
    "  \\pi_0 & \\pi_1 & \\pi_2  \n",
    "  \\end{pmatrix} = \n",
    "  \\begin{pmatrix}\n",
    "  \\pi_0 & \\pi_1 & \\pi_2  \n",
    "  \\end{pmatrix}\n",
    "  \\begin{pmatrix}\n",
    "  0.8 & 0.2 & 0 \\\\\n",
    "  0.4 & 0.4 & 0.2 \\\\\n",
    "  0.2 & 0.6 & 0.2\n",
    "  \\end{pmatrix}\n",
    "  $$\n",
    "  Then we can derive that\n",
    "  $$\n",
    "  \\begin{array}{rcl}\n",
    "  \\pi_0 & = & 0.8\\pi_0 + 0.4\\pi_1 + 0.2\\pi_2 \\\\\n",
    "  \\pi_1 & = & 0.2\\pi_0 + 0.4\\pi_1 + 0.6\\pi_2 \\\\\n",
    "  \\pi_2 & = & 0.2\\pi_1 + 0.2\\pi_2\n",
    "  \\end{array}\n",
    "  $$\n",
    "  \n",
    "  By solving this equation system above, we can find the solution is in this form $(9t, 4t, t)$ for any $t$.  \n",
    "  Let $\\displaystyle t = \\frac{1}{9+4+1} = \\frac{1}{14}$. Then the **stationary distribution** $\\displaystyle \\pi = (\\frac{9}{14}, \\frac{2}{7}, \\frac{1}{14})$. "
   ]
  },
  {
   "cell_type": "markdown",
   "id": "2272d2ab",
   "metadata": {},
   "source": [
    "## 2(e).\n",
    "\n",
    "* By definition, entropy $\\displaystyle H(X) = \\mathbf{E}[-\\log p(X)] = -\\sum_{x \\in X}p(x)\\log p(x)$\n",
    "* Thus the entropy of the stationary distribution $\\pi$ will be\n",
    "  $$\n",
    "  \\displaystyle \\mathbf{E}[-\\log\\pi] = -\\{\\frac{9}{14}\\log(\\frac{9}{14}) + \\frac{2}{7}\\log(\\frac{2}{7}) + \\frac{1}{14}\\log(\\frac{1}{14})\\} = 1.1981...\n",
    "  $$\n",
    "* The next two cells verified our answer."
   ]
  },
  {
   "cell_type": "code",
   "execution_count": 10,
   "id": "7a86be22",
   "metadata": {},
   "outputs": [
    {
     "data": {
      "text/plain": [
       "1.1981174211304029"
      ]
     },
     "execution_count": 10,
     "metadata": {},
     "output_type": "execute_result"
    }
   ],
   "source": [
    "# the algorithm which is from scratch\n",
    "import math\n",
    "\n",
    "def entropy(probs):\n",
    "    return -np.sum([p*math.log2(p) for p in probs])\n",
    "\n",
    "entropy(pi)"
   ]
  },
  {
   "cell_type": "code",
   "execution_count": 11,
   "id": "b8099044",
   "metadata": {},
   "outputs": [
    {
     "data": {
      "text/plain": [
       "1.1981174211304035"
      ]
     },
     "execution_count": 11,
     "metadata": {},
     "output_type": "execute_result"
    }
   ],
   "source": [
    "# the algorithm provided by SciPy\n",
    "from scipy.stats import entropy\n",
    "\n",
    "entropy(pi, base=2)"
   ]
  },
  {
   "cell_type": "markdown",
   "id": "10872847",
   "metadata": {},
   "source": [
    "## 2(f).\n",
    "* **Bayes' Rule:** $$\\displaystyle P(X|Y) = \\frac{P(X)P(Y|X)}{P(Y)}$$\n",
    "* Let r.v. $X$ be yesterday's weather and let r.v. $Y$ be today's weather. Want to find the probability table of $P(X|Y)$.\n",
    "* Note that $X\\sim\\pi$ and $Y\\sim\\pi$. And $\\pi$ is given from **2(d).**\n",
    "* Then the probability table will be  \n",
    "| WEATHER | Sunny  | Cloudy | Rainy  |  \n",
    "|---------|--------|--------|--------|  \n",
    "| Sunny   | 0.8    | 0.1778 | 0.0222 |  \n",
    "| Cloudy  | 0.45   | 0.4    | 0.15   |  \n",
    "| Rainy   | 0      | 0.8    | 0.2    |  "
   ]
  },
  {
   "cell_type": "markdown",
   "id": "0f588adb",
   "metadata": {},
   "source": [
    "## 2(g).\n",
    "\n",
    "* Answer: **No, it will not violate the Markov property**\n",
    "* Definition of **Markov property**:\n",
    "  $$P[X_{t+1} = x | X_1=x_1, X_2=x_2, ..., X_t=x_t] = P[X_{t+1} = x | X_t=x_t], \\forall t>0$$\n",
    "* Let $P_i$ be the state transition matrix for $T_i \\leq t < T_{i+1}$.\n",
    "* Let's discuss case by case:\n",
    "    * case 1: $T_0 \\leq t < T_1$\n",
    "        * Trivial. The state transition matrix is always $P_0$ so it satisfies Markov property.\n",
    "    * case 2: $T_1 \\leq t < T_2$\n",
    "        * Note that the state transition matrix $P_1$ describes $P[X_{t+1} = x | X_t=x_t]$.\n",
    "        * No matter what the previous state transitions are, the state transition matrix is always $P_1$ in this time interval.\n",
    "        * Thus it satisfies Markov property in this time interval.\n",
    "    * case 3: $T_2 \\leq t < T_3$ (similar as case 2.)\n",
    "    * case 4: $T_3 \\leq t < T_4$ (similar as case 2.)\n",
    "    * Thus it satisfies Markov property for any $t$"
   ]
  },
  {
   "cell_type": "markdown",
   "id": "5644e526",
   "metadata": {},
   "source": [
    "## 3(a).\n",
    "\n",
    "* Let r.v. $X$ be the weather detected by the sensor and let r.v. $Y$ be the actual weather.\n",
    "* Consider Day2 *(cloudy)*:\n",
    "    $$\n",
    "    \\begin{aligned}\n",
    "    P[Y_2=sunny|X_2=cloudy]  & = \\frac{P[Y_2=sunny]P[X_2=cloudy|Y_2=sunny]}{\\rho} \\\\\n",
    "                             & = \\frac{0.32}{\\rho} = 0.7 \\\\\n",
    "                             \\\\\n",
    "    P[Y_2=cloudy|X_2=cloudy] & = \\frac{P[Y_2=cloudy]P[X_2=cloudy|Y_2=cloudy]}{\\rho} \\\\\n",
    "                             & = \\frac{0.14}{\\rho} = 0.3 \\\\\n",
    "                             \\\\\n",
    "    P[Y_2=rainy|X_2=cloudy]  & = \\frac{P[Y_2=rainy]P[X_2=cloudy|Y_2=rainy]}{\\rho} \\\\\n",
    "                             & = 0\n",
    "    \\end{aligned}\n",
    "    $$\n",
    "    \n",
    "* Consider Day3 *(cloudy)*:\n",
    "    $$\n",
    "    \\begin{aligned}\n",
    "    P[Y_3=sunny|X_2=cloudy, X_3=cloudy]  & = \\frac{P[Y_3=sunny|X_2=cloudy]P[X_3=cloudy|X_2=cloudy, Y_3=sunny]}{\\rho} \\\\\n",
    "                                         & = \\frac{0.271}{\\rho} = 0.6 \\\\\n",
    "                                         \\\\\n",
    "    P[Y_3=cloudy|X_2=cloudy, X_3=cloudy] & = \\frac{P[Y_3=cloudy|X_2=cloudy]P[X_3=cloudy|X_2=cloudy, Y_3=cloudy]}{\\rho} \\\\\n",
    "                                         & = \\frac{0.183}{\\rho} = 0.4 \\\\\n",
    "                                         \\\\\n",
    "    P[Y_3=rainy|X_2=cloudy, X_3=cloudy]  & = \\frac{P[Y_3=rainy|X_2=cloudy]P[X_3=cloudy|X_2=cloudy, Y_3=rainy]}{\\rho} \\\\\n",
    "                                         & = 0\n",
    "    \\end{aligned}\n",
    "    $$\n",
    "    \n",
    "* Consider Day4 *(rainy)*:\n",
    "    $$\n",
    "    \\begin{aligned}\n",
    "    P[Y_4=sunny|X_{2:4}=(c, c, r)]  & = \\frac{P[Y_4=sunny|X_{2:3}=(c, c)]P[X_4=rainy|X_{2:3}=(c, c), Y_4=sunny]}{\\rho} \\\\\n",
    "                                         & = 0 \\\\\n",
    "                                         \\\\\n",
    "    P[Y_4=cloudy|X_{2:4}=(c, c, r)] & = \\frac{P[Y_4=cloudy|X_{2:3}=(c, c)]P[X_4=rainy|X_{2:3}=(c, c), Y_4=cloudy]}{\\rho} \\\\\n",
    "                                         & = 0 \\\\\n",
    "                                         \\\\\n",
    "    P[Y_4=rainy|X_{2:4}=(c, c, r)]  & = \\frac{P[Y_4=rainy|X_{2:3}=(c, c)]P[X_4=rainy|X_{2:3}=(c, c), Y_4=rainy]}{\\rho} \\\\\n",
    "                                         & = 1\n",
    "    \\end{aligned}\n",
    "    $$\n",
    "    \n",
    "* Consider Day5 *(sunny)*:\n",
    "    $$\n",
    "    \\begin{aligned}\n",
    "    P[Y_5=sunny|X_{2:5}=(c, c, r, s)]  & = \\frac{P[Y_5=sunny|X_{2:4}=(c, c, r)]P[X_5=sunny|X_{2:4}=(c, c, r), Y_5=sunny]}{\\rho} \\\\\n",
    "                                         & = \\frac{0.271}{\\rho} = 0.4 \\\\\n",
    "                                         \\\\\n",
    "    P[Y_5=cloudy|X_{2:5}=(c, c, r, s)] & = \\frac{P[Y_5=cloudy|X_{2:4}=(c, c, r)]P[X_5=sunny|X_{2:4}=(c, c, r), Y_5=cloudy]}{\\rho} \\\\\n",
    "                                         & = \\frac{0.183}{\\rho} = 0.6 \\\\\n",
    "                                         \\\\\n",
    "    P[Y_5=rainy|X_{2:5}=(c, c, r, s)]  & = \\frac{P[Y_5=rainy|X_{2:4}=(c, c, r)]P[X_5=sunny|X_{2:4}=(c, c, r), Y_5=rainy]}{\\rho} \\\\\n",
    "                                         & = 0\n",
    "    \\end{aligned}\n",
    "    $$\n",
    "    \n",
    "* Answer: $P[Y_5=sunny|X_{2:5}=(c, c, r, s)] = 0.4$"
   ]
  },
  {
   "cell_type": "markdown",
   "id": "71bb5573",
   "metadata": {},
   "source": [
    "## 3(b).\n",
    "* Let r.v. $X$ be the weather detected by the sensor and let r.v. $Y$ be the actual weather.\n",
    "* Consider Day2 *(sunny)*:\n",
    "    $$\n",
    "    \\begin{aligned}\n",
    "    P[Y_2=sunny|X_2=sunny]  & = \\frac{P[Y_2=sunny]P[X_2=sunny|Y_2=sunny]}{\\rho} \\\\\n",
    "                            & = \\frac{0.32}{\\rho} = 0.89 \\\\\n",
    "                            \\\\\n",
    "    P[Y_2=cloudy|X_2=sunny] & = \\frac{P[Y_2=cloudy]P[X_2=sunny|Y_2=cloudy]}{\\rho} \\\\\n",
    "                            & = \\frac{0.14}{\\rho} = 0.11 \\\\\n",
    "                            \\\\\n",
    "    P[Y_2=rainy|X_2=sunny]  & = \\frac{P[Y_2=rainy]P[X_2=sunny|Y_2=rainy]}{\\rho} \\\\\n",
    "                            & = 0\n",
    "    \\end{aligned}\n",
    "    $$\n",
    "    \n",
    "* Consider Day3 *(sunny)*:\n",
    "    $$\n",
    "    \\begin{aligned}\n",
    "    P[Y_3=sunny|X_2=sunny, X_3=sunny]  & = \\frac{P[Y_3=sunny|X_2=sunny]P[X_3=sunny|X_2=sunny, Y_3=sunny]}{\\rho} \\\\\n",
    "                                       & = \\frac{0.271}{\\rho} = 0.87 \\\\\n",
    "                                       \\\\\n",
    "    P[Y_3=cloudy|X_2=sunny, X_3=sunny] & = \\frac{P[Y_3=cloudy|X_2=sunny]P[X_3=sunny|X_2=sunny, Y_3=cloudy]}{\\rho} \\\\\n",
    "                                       & = \\frac{0.183}{\\rho} = 0.13 \\\\\n",
    "                                       \\\\\n",
    "    P[Y_3=rainy|X_2=sunny, X_3=sunny]  & = \\frac{P[Y_3=rainy|X_2=sunny]P[X_3=sunny|X_2=sunny, Y_3=rainy]}{\\rho} \\\\\n",
    "                                       & = 0\n",
    "    \\end{aligned}\n",
    "    $$\n",
    "    \n",
    "* Consider Day4 *(rainy)*:\n",
    "    $$\n",
    "    \\begin{aligned}\n",
    "    P[Y_4=sunny|X_{2:4}=(s, s, r)]  & = \\frac{P[Y_4=sunny|X_{2:3}=(s, s)]P[X_4=rainy|X_{2:3}=(s, s), Y_4=sunny]}{\\rho} \\\\\n",
    "                                    & = 0 \\\\\n",
    "                                    \\\\\n",
    "    P[Y_4=cloudy|X_{2:4}=(s, s, r)] & = \\frac{P[Y_4=cloudy|X_{2:3}=(s, s)]P[X_4=rainy|X_{2:3}=(s, s), Y_4=cloudy]}{\\rho} \\\\\n",
    "                                    & = 0 \\\\\n",
    "                                    \\\\\n",
    "    P[Y_4=rainy|X_{2:4}=(s, s, r)]  & = \\frac{P[Y_4=rainy|X_{2:3}=(s, s)]P[X_4=rainy|X_{2:3}=(s, s), Y_4=rainy]}{\\rho} \\\\\n",
    "                                    & = 1\n",
    "    \\end{aligned}\n",
    "    $$\n",
    "    \n",
    "* Answer: sunny, sunny, rainy"
   ]
  },
  {
   "cell_type": "markdown",
   "id": "bbabbe8b",
   "metadata": {},
   "source": [
    "## 3(c)."
   ]
  }
 ],
 "metadata": {
  "kernelspec": {
   "display_name": "ds",
   "language": "python",
   "name": "ds"
  },
  "language_info": {
   "codemirror_mode": {
    "name": "ipython",
    "version": 3
   },
   "file_extension": ".py",
   "mimetype": "text/x-python",
   "name": "python",
   "nbconvert_exporter": "python",
   "pygments_lexer": "ipython3",
   "version": "3.9.12"
  }
 },
 "nbformat": 4,
 "nbformat_minor": 5
}
